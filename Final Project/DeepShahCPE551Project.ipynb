{
 "cells": [
  {
   "cell_type": "raw",
   "id": "725deeeb-961e-45a5-a2fa-dd0d3872a701",
   "metadata": {},
   "source": [
    "Game: Guess the Suit: The Ultimate Card Challenge!!!"
   ]
  },
  {
   "cell_type": "markdown",
   "id": "4e6bbca6-3b6c-4ff0-a15d-be1a75b41f66",
   "metadata": {},
   "source": [
    "Rules of the Game:\n",
    "1. Start by Guessing the Suit of a Card (Pick from the 4 in the Suit List).\n",
    "2. Each player starts with 100 dollars.\n",
    "3. The cost per attempt to guess the suit is 20 dollars.\n",
    "4. Everyone starts with 0 correct. If you get it wrong, you still have 0 correct (no deduction for incorrect answers).\n",
    "5. The players must keep playing until their current balance is 0 and they will be informed when they reach that spot.\n",
    "6. After the players reach a current balance of 0, they will know their final score.\n",
    "7. After knowing the final score, then they will see if their name and score are on the leaderboard. The leaderboard has the highest player's name and score.\n",
    "8. The players can even upload the scorefile.txt to see their or whoever's name and score for having the highest score."
   ]
  },
  {
   "cell_type": "code",
   "execution_count": 4,
   "id": "b494d5a8-33a6-4151-a30c-1ec7df9f5d1e",
   "metadata": {},
   "outputs": [
    {
     "name": "stdout",
     "output_type": "stream",
     "text": [
      "I pledge my honor that I abided by the Stevens Honor System by Deep Shah\n",
      "Please make sure to capitalize the first letter of the suit\n"
     ]
    },
    {
     "name": "stdin",
     "output_type": "stream",
     "text": [
      "What is your first name? Deep\n",
      "What is your last name? Shah\n",
      "Choose the suit you think it will be:  Spades\n"
     ]
    },
    {
     "name": "stdout",
     "output_type": "stream",
     "text": [
      "Nice Choice, Good Luck\n",
      "Your guess is Spades\n",
      "Deep Shah's Card's Suit is Spades\n",
      "Correct, Nice work!\n",
      "Your current balance is: $120\n"
     ]
    },
    {
     "name": "stdin",
     "output_type": "stream",
     "text": [
      "Choose the suit you think it will be:  Spades\n"
     ]
    },
    {
     "name": "stdout",
     "output_type": "stream",
     "text": [
      "Nice Choice, Good Luck\n",
      "Your guess is Spades\n",
      "Deep Shah's Card's Suit is Diamonds\n",
      "Incorrect! You just lost 20 dollars. Try Again!\n",
      "Your current balance is: $100\n"
     ]
    },
    {
     "name": "stdin",
     "output_type": "stream",
     "text": [
      "Choose the suit you think it will be:  Spades\n"
     ]
    },
    {
     "name": "stdout",
     "output_type": "stream",
     "text": [
      "Nice Choice, Good Luck\n",
      "Your guess is Spades\n",
      "Deep Shah's Card's Suit is Clubs\n",
      "Incorrect! You just lost 20 dollars. Try Again!\n",
      "Your current balance is: $80\n"
     ]
    },
    {
     "name": "stdin",
     "output_type": "stream",
     "text": [
      "Choose the suit you think it will be:  Spades\n"
     ]
    },
    {
     "name": "stdout",
     "output_type": "stream",
     "text": [
      "Nice Choice, Good Luck\n",
      "Your guess is Spades\n",
      "Deep Shah's Card's Suit is Spades\n",
      "Correct, Nice work!\n",
      "Your current balance is: $100\n"
     ]
    },
    {
     "name": "stdin",
     "output_type": "stream",
     "text": [
      "Choose the suit you think it will be:  Spades\n"
     ]
    },
    {
     "name": "stdout",
     "output_type": "stream",
     "text": [
      "Nice Choice, Good Luck\n",
      "Your guess is Spades\n",
      "Deep Shah's Card's Suit is Clubs\n",
      "Incorrect! You just lost 20 dollars. Try Again!\n",
      "Your current balance is: $80\n"
     ]
    },
    {
     "name": "stdin",
     "output_type": "stream",
     "text": [
      "Choose the suit you think it will be:  Spades\n"
     ]
    },
    {
     "name": "stdout",
     "output_type": "stream",
     "text": [
      "Nice Choice, Good Luck\n",
      "Your guess is Spades\n",
      "Deep Shah's Card's Suit is Spades\n",
      "Correct, Nice work!\n",
      "Your current balance is: $100\n"
     ]
    },
    {
     "name": "stdin",
     "output_type": "stream",
     "text": [
      "Choose the suit you think it will be:  Spades\n"
     ]
    },
    {
     "name": "stdout",
     "output_type": "stream",
     "text": [
      "Nice Choice, Good Luck\n",
      "Your guess is Spades\n",
      "Deep Shah's Card's Suit is Hearts\n",
      "Incorrect! You just lost 20 dollars. Try Again!\n",
      "Your current balance is: $80\n"
     ]
    },
    {
     "name": "stdin",
     "output_type": "stream",
     "text": [
      "Choose the suit you think it will be:  Spades\n"
     ]
    },
    {
     "name": "stdout",
     "output_type": "stream",
     "text": [
      "Nice Choice, Good Luck\n",
      "Your guess is Spades\n",
      "Deep Shah's Card's Suit is Diamonds\n",
      "Incorrect! You just lost 20 dollars. Try Again!\n",
      "Your current balance is: $60\n"
     ]
    },
    {
     "name": "stdin",
     "output_type": "stream",
     "text": [
      "Choose the suit you think it will be:  Spades\n"
     ]
    },
    {
     "name": "stdout",
     "output_type": "stream",
     "text": [
      "Nice Choice, Good Luck\n",
      "Your guess is Spades\n",
      "Deep Shah's Card's Suit is Spades\n",
      "Correct, Nice work!\n",
      "Your current balance is: $80\n"
     ]
    },
    {
     "name": "stdin",
     "output_type": "stream",
     "text": [
      "Choose the suit you think it will be:  Sapdes\n"
     ]
    },
    {
     "name": "stdout",
     "output_type": "stream",
     "text": [
      "Incorrect Input, Please Try Again\n"
     ]
    },
    {
     "name": "stdin",
     "output_type": "stream",
     "text": [
      "Choose the suit you think it will be:  Spades\n"
     ]
    },
    {
     "name": "stdout",
     "output_type": "stream",
     "text": [
      "Nice Choice, Good Luck\n",
      "Your guess is Spades\n",
      "Deep Shah's Card's Suit is Diamonds\n",
      "Incorrect! You just lost 20 dollars. Try Again!\n",
      "Your current balance is: $60\n"
     ]
    },
    {
     "name": "stdin",
     "output_type": "stream",
     "text": [
      "Choose the suit you think it will be:  Spades\n"
     ]
    },
    {
     "name": "stdout",
     "output_type": "stream",
     "text": [
      "Nice Choice, Good Luck\n",
      "Your guess is Spades\n",
      "Deep Shah's Card's Suit is Hearts\n",
      "Incorrect! You just lost 20 dollars. Try Again!\n",
      "Your current balance is: $40\n"
     ]
    },
    {
     "name": "stdin",
     "output_type": "stream",
     "text": [
      "Choose the suit you think it will be:  Spades\n"
     ]
    },
    {
     "name": "stdout",
     "output_type": "stream",
     "text": [
      "Nice Choice, Good Luck\n",
      "Your guess is Spades\n",
      "Deep Shah's Card's Suit is Diamonds\n",
      "Incorrect! You just lost 20 dollars. Try Again!\n",
      "Your current balance is: $20\n"
     ]
    },
    {
     "name": "stdin",
     "output_type": "stream",
     "text": [
      "Choose the suit you think it will be:  Spades\n"
     ]
    },
    {
     "name": "stdout",
     "output_type": "stream",
     "text": [
      "Nice Choice, Good Luck\n",
      "Your guess is Spades\n",
      "Deep Shah's Card's Suit is Hearts\n",
      "Incorrect! You just lost 20 dollars. Try Again!\n",
      "Your current balance is: $0\n",
      "The final score for the player is: 4\n",
      "Leaderboard: \n",
      "Name: Deep Hsuan\n",
      "Highest Score: 10\n"
     ]
    }
   ],
   "source": [
    "print(\"I pledge my honor that I abided by the Stevens Honor System by Deep Shah\")\n",
    "print(\"Please make sure to capitalize the first letter of the suit\")\n",
    "\n",
    "import random #Importing the Random Library\n",
    "\n",
    "class Card(): #Created a Class called Card\n",
    "    suit_list = [\"Clubs\", \"Diamonds\", \"Hearts\", \"Spades\"] \n",
    "    def __eq__(self, Guess_Suit): #Checking if two cards are equal\n",
    "        return (self.suit == Guess_Suit.suit)\n",
    "    def __init__ (self, suit = 0): #Initalizes the suit of the card to have a default value of 0 if there is no suit provided\n",
    "        self.suit = suit\n",
    "    def __str__ (self): #Returns the string of the suit based on its index value of self.suit\n",
    "        return (self.suit_list[self.suit])\n",
    "    def __updatex__(self): #Checks if the player inputs a valid suit from the suit_list\n",
    "        suit_list = [\"Clubs\", \"Diamonds\", \"Hearts\", \"Spades\"]\n",
    "        while True:\n",
    "            Guess_Suit = input(\"Choose the suit you think it will be: \")\n",
    "            if Guess_Suit.capitalize() in suit_list:\n",
    "                print(\"Nice Choice, Good Luck\")\n",
    "                return Guess_Suit\n",
    "            else:\n",
    "                print(\"Incorrect Input, Please Try Again\")\n",
    "\n",
    "class Deck(): #Created a Class called Deck\n",
    "    def __init__(self): #Creates 4 cards, one for each suit, and adds it to the self.cards list. \n",
    "        self.cards = []\n",
    "        for suit in range(4):\n",
    "                self.cards.append(Card(suit))\n",
    "    def __str__(self): #Creates a string of all cards, adding spaces before each card based on its position/index value\n",
    "        s = \"\"\n",
    "        for i in range(len(self.cards)):\n",
    "            s += i * \" \" + str(self.cards[i]) \n",
    "        return s\n",
    "    def shuffle(self): #Shuffles the cards in the self.cards list\n",
    "        n_cards = len(self.cards)\n",
    "        for i in range(n_cards):\n",
    "            j = random.randrange(0, n_cards)\n",
    "            self.cards[i], self.cards[j] = self.cards[j], self.cards[i]\n",
    "    def pop_card(self): #Removes a card from the self.cards list\n",
    "        return self.cards.pop()\n",
    "    def is_empty(self): #Checks if the self.cards list is empty\n",
    "        return len(self.cards) == 0\n",
    "    def deal(self, hands, n_cards = 52): #Deals out the cards to the players that are playing evenly\n",
    "        n_players = len(hands)\n",
    "        for i in range(n_cards):\n",
    "            if self.is_empty():\n",
    "                break\n",
    "            card = self.pop_card()\n",
    "            current_player = i % n_players\n",
    "            hands[current_player].add_card(card)\n",
    "\n",
    "class Hand(Deck): #Created a class called Hand that inherits from the Deck class\n",
    "    def __init__(self, name = \"\"): #Initalizes self.card as a list and self.name based on the player's input\n",
    "        self.cards = []\n",
    "        self.name = name\n",
    "    def add_card(self, card): #Adds a card to the self.cards list\n",
    "        self.cards.append(card)\n",
    "    def __str__(self): #Outputs the player's name with 's Card Suit is followed by the card's suit or a message indicating it is empty\n",
    "        s = self.name + \"'s Card's Suit is \"\n",
    "        if self.is_empty():\n",
    "            return s + \" is empty\"\n",
    "        s += Deck.__str__(self)\n",
    "        return s\n",
    "    def __stringhand__(self): #Returns the cards and their suits\n",
    "        return Deck.__str__(self)\n",
    "\n",
    "class CardGame(): #Created a class called CardGame\n",
    "    def __init__(self):\n",
    "        self.deck = Deck()\n",
    "        self.deck = shuffle()\n",
    "        \n",
    "def Highest_Score(Name, player_score): #Create a function to update the highest score for the players and save it to a file\n",
    "    highest_score = {} #Created an empty dictionary to store the highest score\n",
    "    file = open(\"scorefile.txt\", \"a\") #Created a file called scorefile if it doesn't already exist\n",
    "    file.close()\n",
    "    with open(\"scorefile.txt\", \"r\") as file: #Reads the file line-by-line, splits each lines into key and values, and stores the highest_score dictionary. \n",
    "        for line in file:\n",
    "            S = line.strip().split(\":\")\n",
    "            PlayerName = S[0] #Key\n",
    "            HighestScore = S[1] #Value\n",
    "            highest_score[PlayerName] = HighestScore\n",
    "        if highest_score == {}:\n",
    "            highest_score[Name] = player_score\n",
    "        else: \n",
    "            if player_score > int(HighestScore):\n",
    "                del highest_score[PlayerName]\n",
    "                highest_score[Name] = player_score\n",
    "    with open(\"scorefile.txt\", \"w\") as file:\n",
    "        b = list(highest_score.keys())\n",
    "        c = list(highest_score.values())\n",
    "        file.write(f\"{b[0]}:{c[0]}\")\n",
    "    return highest_score\n",
    "\n",
    "def main():\n",
    "    player_starting_amount = 100 #player starts with 100 dollars\n",
    "    cost_per_attempt = 20 #The cost per guess is 20 dollars\n",
    "    player_score = 0 #Each player starts with 0 dollars\n",
    "    first_name = input(\"What is your first name?\") #Asking player for first name\n",
    "    last_name = input(\"What is your last name?\") #Asking player for last name\n",
    "    Name = first_name.strip().capitalize() + \" \" + last_name.strip().capitalize() #Combining the player's first and last name\n",
    "    while player_starting_amount > 0:\n",
    "        d = Deck() #d is an instance of Deck\n",
    "        c = Card() #c is an instance of Card\n",
    "        x = c.__updatex__() #Calls the function above to update x after each guess\n",
    "        print(\"Your guess is \" + x)\n",
    "        d.shuffle() #Shuffle the deck\n",
    "        hand = Hand(Name) #Establishing the people that want to be in the game (This is a one-player game)\n",
    "        hands = [hand]\n",
    "        d.deal(hands, 1) #Deals out the card to the player playing\n",
    "        print (hand) \n",
    "        if x == hand.__stringhand__(): #Checking if the player's guess matches the randomized card\n",
    "            print(\"Correct, Nice work!\")\n",
    "            player_starting_amount = player_starting_amount + cost_per_attempt\n",
    "            print(f\"Your current balance is: ${player_starting_amount}\") #f can used for string formatting.\n",
    "            player_score = player_score + 1\n",
    "        else:\n",
    "            print(\"Incorrect! You just lost 20 dollars. Try Again!\")\n",
    "            player_starting_amount = player_starting_amount - cost_per_attempt\n",
    "            print(f\"Your current balance is: ${player_starting_amount}\") \n",
    "    print (f\"The final score for the player is: {player_score}\")\n",
    "    y = Highest_Score(Name, player_score) #Creates a dictionary with the player's name as key and highest score as value\n",
    "    z = list(y.keys()) #Converts the player's name into a list\n",
    "    a = list(y.values()) #Converts the highest score into a list\n",
    "    print(\"Leaderboard: \")\n",
    "    print(f\"Name: {z[0]}\")\n",
    "    print(f\"Highest Score: {a[0]}\")\n",
    "\n",
    "main()\n",
    "    \n"
   ]
  },
  {
   "cell_type": "code",
   "execution_count": null,
   "id": "2026d8c4-0865-4a21-b3fb-5a7f7385d2c4",
   "metadata": {},
   "outputs": [],
   "source": []
  },
  {
   "cell_type": "code",
   "execution_count": null,
   "id": "54d36f7f-2823-4006-a578-6cf845260d52",
   "metadata": {},
   "outputs": [],
   "source": []
  }
 ],
 "metadata": {
  "kernelspec": {
   "display_name": "Python 3 (ipykernel)",
   "language": "python",
   "name": "python3"
  },
  "language_info": {
   "codemirror_mode": {
    "name": "ipython",
    "version": 3
   },
   "file_extension": ".py",
   "mimetype": "text/x-python",
   "name": "python",
   "nbconvert_exporter": "python",
   "pygments_lexer": "ipython3",
   "version": "3.12.4"
  }
 },
 "nbformat": 4,
 "nbformat_minor": 5
}
